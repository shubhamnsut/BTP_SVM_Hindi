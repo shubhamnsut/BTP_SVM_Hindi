{
  "nbformat": 4,
  "nbformat_minor": 0,
  "metadata": {
    "colab": {
      "provenance": []
    },
    "kernelspec": {
      "name": "python3",
      "display_name": "Python 3"
    },
    "language_info": {
      "name": "python"
    }
  },
  "cells": [
    {
      "cell_type": "code",
      "execution_count": 1,
      "metadata": {
        "id": "z5y_bKZPl4za"
      },
      "outputs": [],
      "source": [
        "import numpy as np\n",
        "import pandas as pd\n",
        "import re\n",
        "from nltk.corpus import stopwords\n",
        "from nltk.stem.porter import PorterStemmer\n",
        "from sklearn.feature_extraction.text import TfidfVectorizer\n",
        "from sklearn.model_selection import train_test_split\n",
        "from sklearn.linear_model import LogisticRegression\n",
        "from sklearn.metrics import accuracy_score\n",
        "from sklearn.metrics import classification_report"
      ]
    },
    {
      "cell_type": "code",
      "source": [],
      "metadata": {
        "id": "9tGCqO--yLb2"
      },
      "execution_count": 1,
      "outputs": []
    },
    {
      "cell_type": "code",
      "source": [
        "from google.colab import drive\n",
        "drive.mount('/content/drive')"
      ],
      "metadata": {
        "colab": {
          "base_uri": "https://localhost:8080/"
        },
        "id": "LQrsN6fNMcc_",
        "outputId": "5a230ffa-e316-4014-b0fa-b6ccde0f44e4"
      },
      "execution_count": 2,
      "outputs": [
        {
          "output_type": "stream",
          "name": "stdout",
          "text": [
            "Mounted at /content/drive\n"
          ]
        }
      ]
    },
    {
      "cell_type": "code",
      "source": [
        "hindi_stopwords=pd.read_csv('/content/drive/MyDrive/BTP/others/final_stopwords.txt')"
      ],
      "metadata": {
        "id": "9Ey-ugFAnFFO"
      },
      "execution_count": 3,
      "outputs": []
    },
    {
      "cell_type": "code",
      "source": [
        "# printing the stopwords in Hindi\n",
        "my_stopwords = open(\"/content/drive/MyDrive/BTP/others/final_stopwords.txt\", \"r\")\n",
        "# reading the file\n",
        "data = my_stopwords.read()\n",
        "# replacing end splitting the text \n",
        "# when newline ('\\n') is seen.\n",
        "data_into_list = data.split(\"\\n\")\n",
        "print(data_into_list)\n"
      ],
      "metadata": {
        "colab": {
          "base_uri": "https://localhost:8080/"
        },
        "id": "eZZGLv4tnE0-",
        "outputId": "6e8b7593-b7a7-488b-eb45-a1225161322f"
      },
      "execution_count": 4,
      "outputs": [
        {
          "output_type": "stream",
          "name": "stdout",
          "text": [
            "['मैं', 'मुझको', 'मेरा', 'अपने आप को', 'हमने', 'हमारा', 'अपना', 'हम', 'आप', 'आपका', 'तुम्हारा', 'अपने आप', 'स्वयं', 'वह', 'इसे', 'उसके', 'खुद को', 'कि वह', 'उसकी', 'उसका', 'खुद ही', 'यह', 'इसके', 'उन्होने', 'अपने', 'क्या', 'जो', 'किसे', 'किसको', 'कि', 'ये', 'हूँ', 'होता है', 'रहे', 'थी', 'थे', 'होना', 'गया', 'किया जा रहा है', 'किया है', 'है', 'पडा', 'होने', 'करना', 'करता है', 'किया', 'रही', 'एक', 'लेकिन', 'अगर', 'या', 'क्यूंकि', 'जैसा', 'जब तक', 'जबकि', 'की', 'पर', 'द्वारा', 'के लिए', 'साथ', 'के बारे में', 'खिलाफ', 'बीच', 'में', 'के माध्यम से', 'दौरान', 'से पहले', 'के बाद', 'ऊपर', 'नीचे', 'को', 'से', 'तक', 'से नीचे', 'करने में', 'निकल', 'बंद', 'से अधिक', 'तहत', 'दुबारा', 'आगे', 'फिर', 'एक बार', 'यहाँ', 'वहाँ', 'कब', 'कहाँ', 'क्यों', 'कैसे', 'सारे', 'किसी', 'दोनो', 'प्रत्येक', 'ज्यादा', 'अधिकांश', 'अन्य', 'में कुछ', 'ऐसा', 'में कोई', 'मात्र', 'खुद', 'समान', 'इसलिए', 'बहुत', 'सकता', 'जायेंगे', 'जरा', 'चाहिए', 'अभी', 'और', 'कर दिया', 'रखें', 'का', 'हैं', 'इस', 'होता', 'करने', 'ने', 'बनी', 'तो', 'ही', 'हो', 'इसका', 'था', 'हुआ', 'वाले', 'बाद', 'लिए', 'सकते', 'इसमें', 'दो', 'वे', 'करते', 'कहा', 'वर्ग', 'कई', 'करें', 'होती', 'अपनी', 'उनके', 'यदि', 'हुई', 'जा', 'कहते', 'जब', 'होते', 'कोई', 'हुए', 'व', 'जैसे', 'सभी', 'करता', 'उनकी', 'तरह', 'उस', 'आदि', 'इसकी', 'उनका', 'इसी', 'पे', 'तथा', 'भी', 'परंतु', 'इन', 'कम', 'दूर', 'पूरे', 'गये', 'तुम', 'मै', 'यहां', 'हुये', 'कभी', 'अथवा', 'गयी', 'प्रति', 'जाता', 'इन्हें', 'गई', 'अब', 'जिसमें', 'लिया', 'बड़ा', 'जाती', 'तब', 'उसे', 'जाते', 'लेकर', 'बड़े', 'दूसरे', 'जाने', 'बाहर', 'स्थान', 'उन्हें ', 'गए', 'ऐसे', 'जिससे', 'समय', 'दोनों', 'किए', 'रहती', 'इनके', 'इनका', 'इनकी', 'सकती', 'आज', 'कल', 'जिन्हें', 'जिन्हों', 'तिन्हें', 'तिन्हों', 'किन्हों', 'किन्हें', 'इत्यादि', 'इन्हों', 'उन्हों', 'बिलकुल', 'निहायत', 'इन्हीं', 'उन्हीं', 'जितना', 'दूसरा', 'कितना', 'साबुत', 'वग़ैरह', 'कौनसा', 'लिये', 'दिया', 'जिसे', 'तिसे', 'काफ़ी', 'पहले', 'बाला', 'मानो', 'अंदर', 'भीतर', 'पूरा', 'सारा', 'उनको', 'वहीं', 'जहाँ', 'जीधर', '\\ufeffके', 'एवं', 'कुछ', 'कुल', 'रहा', 'जिस', 'जिन', 'तिस', 'तिन', 'कौन', 'किस', 'संग', 'यही', 'बही', 'उसी', 'मगर', 'कर', 'मे', 'एस', 'उन', 'सो', 'अत', '']\n"
          ]
        }
      ]
    },
    {
      "cell_type": "markdown",
      "source": [
        "# data preprocessing"
      ],
      "metadata": {
        "id": "ICszVHg3xKDQ"
      }
    },
    {
      "cell_type": "code",
      "source": [
        "# loading the dataset to a pandas DataFrame\n",
        "news_dataset = pd.read_csv('/content/drive/MyDrive/BTP/others/Merged file.csv')"
      ],
      "metadata": {
        "id": "IrTDxz3TwzoN"
      },
      "execution_count": 5,
      "outputs": []
    },
    {
      "cell_type": "code",
      "source": [
        "news_dataset.shape"
      ],
      "metadata": {
        "id": "hfFjnAn1ydm2",
        "colab": {
          "base_uri": "https://localhost:8080/"
        },
        "outputId": "9315e1bc-dcc3-492b-afd9-274c1f4fed0b"
      },
      "execution_count": 6,
      "outputs": [
        {
          "output_type": "execute_result",
          "data": {
            "text/plain": [
              "(7112, 3)"
            ]
          },
          "metadata": {},
          "execution_count": 6
        }
      ]
    },
    {
      "cell_type": "code",
      "source": [
        "# print the first 2 rows of the dataframe\n",
        "news_dataset.head()"
      ],
      "metadata": {
        "id": "CQp3mPBHxztg",
        "colab": {
          "base_uri": "https://localhost:8080/",
          "height": 206
        },
        "outputId": "f7455da3-5aa2-4039-cfda-cdba545c8f03"
      },
      "execution_count": 7,
      "outputs": [
        {
          "output_type": "execute_result",
          "data": {
            "text/plain": [
              "   Label                                              Title Unnamed: 2\n",
              "0      0  क्या Akhilesh Yadav ने Aparna Yadav की तुलना व...        NaN\n",
              "1      0  RBI दे रहा 4 करोड़ रुपए, पहले जमा करने पड़ेंगे...        NaN\n",
              "2      0  टोल प्लाजा पर एक जज को मैनेजर ने तीखे दलीलों स...        NaN\n",
              "3      0  आसमान में चमक रहे 'सूरज' को देखने क्यों जुटी भ...        NaN\n",
              "4      0  लिट्टे जैसी नहीं सेना की नई Combat Pattern Uni...        NaN"
            ],
            "text/html": [
              "\n",
              "  <div id=\"df-9e2159d8-f6f4-4ce4-921a-c505b604aae6\">\n",
              "    <div class=\"colab-df-container\">\n",
              "      <div>\n",
              "<style scoped>\n",
              "    .dataframe tbody tr th:only-of-type {\n",
              "        vertical-align: middle;\n",
              "    }\n",
              "\n",
              "    .dataframe tbody tr th {\n",
              "        vertical-align: top;\n",
              "    }\n",
              "\n",
              "    .dataframe thead th {\n",
              "        text-align: right;\n",
              "    }\n",
              "</style>\n",
              "<table border=\"1\" class=\"dataframe\">\n",
              "  <thead>\n",
              "    <tr style=\"text-align: right;\">\n",
              "      <th></th>\n",
              "      <th>Label</th>\n",
              "      <th>Title</th>\n",
              "      <th>Unnamed: 2</th>\n",
              "    </tr>\n",
              "  </thead>\n",
              "  <tbody>\n",
              "    <tr>\n",
              "      <th>0</th>\n",
              "      <td>0</td>\n",
              "      <td>क्या Akhilesh Yadav ने Aparna Yadav की तुलना व...</td>\n",
              "      <td>NaN</td>\n",
              "    </tr>\n",
              "    <tr>\n",
              "      <th>1</th>\n",
              "      <td>0</td>\n",
              "      <td>RBI दे रहा 4 करोड़ रुपए, पहले जमा करने पड़ेंगे...</td>\n",
              "      <td>NaN</td>\n",
              "    </tr>\n",
              "    <tr>\n",
              "      <th>2</th>\n",
              "      <td>0</td>\n",
              "      <td>टोल प्लाजा पर एक जज को मैनेजर ने तीखे दलीलों स...</td>\n",
              "      <td>NaN</td>\n",
              "    </tr>\n",
              "    <tr>\n",
              "      <th>3</th>\n",
              "      <td>0</td>\n",
              "      <td>आसमान में चमक रहे 'सूरज' को देखने क्यों जुटी भ...</td>\n",
              "      <td>NaN</td>\n",
              "    </tr>\n",
              "    <tr>\n",
              "      <th>4</th>\n",
              "      <td>0</td>\n",
              "      <td>लिट्टे जैसी नहीं सेना की नई Combat Pattern Uni...</td>\n",
              "      <td>NaN</td>\n",
              "    </tr>\n",
              "  </tbody>\n",
              "</table>\n",
              "</div>\n",
              "      <button class=\"colab-df-convert\" onclick=\"convertToInteractive('df-9e2159d8-f6f4-4ce4-921a-c505b604aae6')\"\n",
              "              title=\"Convert this dataframe to an interactive table.\"\n",
              "              style=\"display:none;\">\n",
              "        \n",
              "  <svg xmlns=\"http://www.w3.org/2000/svg\" height=\"24px\"viewBox=\"0 0 24 24\"\n",
              "       width=\"24px\">\n",
              "    <path d=\"M0 0h24v24H0V0z\" fill=\"none\"/>\n",
              "    <path d=\"M18.56 5.44l.94 2.06.94-2.06 2.06-.94-2.06-.94-.94-2.06-.94 2.06-2.06.94zm-11 1L8.5 8.5l.94-2.06 2.06-.94-2.06-.94L8.5 2.5l-.94 2.06-2.06.94zm10 10l.94 2.06.94-2.06 2.06-.94-2.06-.94-.94-2.06-.94 2.06-2.06.94z\"/><path d=\"M17.41 7.96l-1.37-1.37c-.4-.4-.92-.59-1.43-.59-.52 0-1.04.2-1.43.59L10.3 9.45l-7.72 7.72c-.78.78-.78 2.05 0 2.83L4 21.41c.39.39.9.59 1.41.59.51 0 1.02-.2 1.41-.59l7.78-7.78 2.81-2.81c.8-.78.8-2.07 0-2.86zM5.41 20L4 18.59l7.72-7.72 1.47 1.35L5.41 20z\"/>\n",
              "  </svg>\n",
              "      </button>\n",
              "      \n",
              "  <style>\n",
              "    .colab-df-container {\n",
              "      display:flex;\n",
              "      flex-wrap:wrap;\n",
              "      gap: 12px;\n",
              "    }\n",
              "\n",
              "    .colab-df-convert {\n",
              "      background-color: #E8F0FE;\n",
              "      border: none;\n",
              "      border-radius: 50%;\n",
              "      cursor: pointer;\n",
              "      display: none;\n",
              "      fill: #1967D2;\n",
              "      height: 32px;\n",
              "      padding: 0 0 0 0;\n",
              "      width: 32px;\n",
              "    }\n",
              "\n",
              "    .colab-df-convert:hover {\n",
              "      background-color: #E2EBFA;\n",
              "      box-shadow: 0px 1px 2px rgba(60, 64, 67, 0.3), 0px 1px 3px 1px rgba(60, 64, 67, 0.15);\n",
              "      fill: #174EA6;\n",
              "    }\n",
              "\n",
              "    [theme=dark] .colab-df-convert {\n",
              "      background-color: #3B4455;\n",
              "      fill: #D2E3FC;\n",
              "    }\n",
              "\n",
              "    [theme=dark] .colab-df-convert:hover {\n",
              "      background-color: #434B5C;\n",
              "      box-shadow: 0px 1px 3px 1px rgba(0, 0, 0, 0.15);\n",
              "      filter: drop-shadow(0px 1px 2px rgba(0, 0, 0, 0.3));\n",
              "      fill: #FFFFFF;\n",
              "    }\n",
              "  </style>\n",
              "\n",
              "      <script>\n",
              "        const buttonEl =\n",
              "          document.querySelector('#df-9e2159d8-f6f4-4ce4-921a-c505b604aae6 button.colab-df-convert');\n",
              "        buttonEl.style.display =\n",
              "          google.colab.kernel.accessAllowed ? 'block' : 'none';\n",
              "\n",
              "        async function convertToInteractive(key) {\n",
              "          const element = document.querySelector('#df-9e2159d8-f6f4-4ce4-921a-c505b604aae6');\n",
              "          const dataTable =\n",
              "            await google.colab.kernel.invokeFunction('convertToInteractive',\n",
              "                                                     [key], {});\n",
              "          if (!dataTable) return;\n",
              "\n",
              "          const docLinkHtml = 'Like what you see? Visit the ' +\n",
              "            '<a target=\"_blank\" href=https://colab.research.google.com/notebooks/data_table.ipynb>data table notebook</a>'\n",
              "            + ' to learn more about interactive tables.';\n",
              "          element.innerHTML = '';\n",
              "          dataTable['output_type'] = 'display_data';\n",
              "          await google.colab.output.renderOutput(dataTable, element);\n",
              "          const docLink = document.createElement('div');\n",
              "          docLink.innerHTML = docLinkHtml;\n",
              "          element.appendChild(docLink);\n",
              "        }\n",
              "      </script>\n",
              "    </div>\n",
              "  </div>\n",
              "  "
            ]
          },
          "metadata": {},
          "execution_count": 7
        }
      ]
    },
    {
      "cell_type": "code",
      "source": [
        "# counting the number of missing values in the dataset\n",
        "news_dataset.isnull().sum()"
      ],
      "metadata": {
        "id": "lqQSop4rx8q3",
        "colab": {
          "base_uri": "https://localhost:8080/"
        },
        "outputId": "e9d00f75-dd50-4ebd-d1e6-ffe34d2c008b"
      },
      "execution_count": 8,
      "outputs": [
        {
          "output_type": "execute_result",
          "data": {
            "text/plain": [
              "Label            0\n",
              "Title            0\n",
              "Unnamed: 2    7111\n",
              "dtype: int64"
            ]
          },
          "metadata": {},
          "execution_count": 8
        }
      ]
    },
    {
      "cell_type": "code",
      "source": [
        "X=news_dataset['Title']\n",
        "Y=news_dataset['Label']"
      ],
      "metadata": {
        "id": "Ub2gOnwE1gOQ"
      },
      "execution_count": 9,
      "outputs": []
    },
    {
      "cell_type": "code",
      "source": [
        "print(X)"
      ],
      "metadata": {
        "id": "HENKWP4Q1f0S",
        "colab": {
          "base_uri": "https://localhost:8080/"
        },
        "outputId": "c59b7481-2484-4e89-f35c-fe7208cea659"
      },
      "execution_count": 10,
      "outputs": [
        {
          "output_type": "stream",
          "name": "stdout",
          "text": [
            "0       क्या Akhilesh Yadav ने Aparna Yadav की तुलना व...\n",
            "1       RBI दे रहा 4 करोड़ रुपए, पहले जमा करने पड़ेंगे...\n",
            "2       टोल प्लाजा पर एक जज को मैनेजर ने तीखे दलीलों स...\n",
            "3       आसमान में चमक रहे 'सूरज' को देखने क्यों जुटी भ...\n",
            "4       लिट्टे जैसी नहीं सेना की नई Combat Pattern Uni...\n",
            "                              ...                        \n",
            "7107    शशिकला को एक और झटका: चेन्नई कोर्ट ने खारिज की...\n",
            "7108    बड़ी उपलब्धि: इस मामले में नीति आयोग ने गुजरात...\n",
            "7109    पलटवार : राम के नाम पर राजनीति कर रही शिवसेना,...\n",
            "7110    बंगाल में बवाल: नाबालिग से दुष्कर्म और हत्या म...\n",
            "7111    तिनका जेल रेडियो : कुरुक्षेत्र जेल में भक्तिभा...\n",
            "Name: Title, Length: 7112, dtype: object\n"
          ]
        }
      ]
    },
    {
      "cell_type": "markdown",
      "source": [
        "Stemming:\n",
        "\n",
        "Stemming is the process of reducing a word to its Root word\n",
        "\n",
        "example: actor, actress, acting --> act"
      ],
      "metadata": {
        "id": "3BvuhhSf40YI"
      }
    },
    {
      "cell_type": "code",
      "source": [
        "print(Y)"
      ],
      "metadata": {
        "colab": {
          "base_uri": "https://localhost:8080/"
        },
        "id": "XnMXiJIGbztX",
        "outputId": "e2121925-a846-4b56-c615-95e77d120a3f"
      },
      "execution_count": 11,
      "outputs": [
        {
          "output_type": "stream",
          "name": "stdout",
          "text": [
            "0       0\n",
            "1       0\n",
            "2       0\n",
            "3       0\n",
            "4       0\n",
            "       ..\n",
            "7107    1\n",
            "7108    1\n",
            "7109    1\n",
            "7110    1\n",
            "7111    1\n",
            "Name: Label, Length: 7112, dtype: int64\n"
          ]
        }
      ]
    },
    {
      "cell_type": "code",
      "source": [
        "import sys\n",
        "import os\n",
        "\n",
        "py_file_location = \"/content/drive/MyDrive/BTP/others/\"\n",
        "sys.path.append(os.path.abspath(py_file_location))"
      ],
      "metadata": {
        "id": "r_qO2ta80kTf"
      },
      "execution_count": 12,
      "outputs": []
    },
    {
      "cell_type": "code",
      "source": [
        "!python \"/content/drive/MyDrive/BTP/others/hindi_stemmer.py\""
      ],
      "metadata": {
        "id": "1lerIq_c33P_",
        "colab": {
          "base_uri": "https://localhost:8080/"
        },
        "outputId": "3a44238b-0b9d-4001-d6db-8d8296b8ab20"
      },
      "execution_count": 13,
      "outputs": [
        {
          "output_type": "stream",
          "name": "stdout",
          "text": [
            "Traceback (most recent call last):\n",
            "  File \"/content/drive/MyDrive/BTP/others/hindi_stemmer.py\", line 6, in <module>\n",
            "    f = codecs.open(filepath, encoding = 'utf-8')\n",
            "  File \"/usr/lib/python3.9/codecs.py\", line 905, in open\n",
            "    file = builtins.open(filename, mode, buffering)\n",
            "FileNotFoundError: [Errno 2] No such file or directory: '/content/drive/MyDrive/internship_project/Merged file.csv'\n"
          ]
        }
      ]
    },
    {
      "cell_type": "code",
      "source": [
        "stemmed_dataset = pd.read_csv('/content/drive/MyDrive/BTP/others/stemed_file.csv')\n",
        "print(stemmed_dataset)"
      ],
      "metadata": {
        "id": "XiwUapu647zi",
        "colab": {
          "base_uri": "https://localhost:8080/"
        },
        "outputId": "9a7c88b6-524a-4033-e97b-f593184c1e6d"
      },
      "execution_count": 14,
      "outputs": [
        {
          "output_type": "stream",
          "name": "stdout",
          "text": [
            "      Label                                              Title Unnamed: 2\n",
            "0         1  Jagdalpur म पर्यटक क साथ दुर्व्यवहार, नाव स सै...        NaN\n",
            "1         1  इस्तेमाल क गए ग्रीन ट बैग्स क फेंकन स पहल जान ...        NaN\n",
            "2         1  कार स निकलन लग Gold बिस्किट, पटन म पकड़ गय सव ...        NaN\n",
            "3         1  Bhagyam Astrology Special | Aaj Ka Panchang | ...        NaN\n",
            "4         1  MP | Birthday पार्ट म Firing कर किय वीडिय वायर...        NaN\n",
            "...     ...                                                ...        ...\n",
            "6241      1  शशिकल क एक और झटका: चेन्नई कोर्ट न खारिज क याच...        NaN\n",
            "6242      1  बड़ उपलब्धि: इस मामल म नीत आयोग न गुजरात क दिय...        NaN\n",
            "6243      1  पलटवार : राम क नाम पर राजनीत कर रह शिवसेना, के...        NaN\n",
            "6244      1  बंगाल म बवाल: नाबालिग स दुष्कर्म और हत्य मामल ...        NaN\n",
            "6245      1  तिनक जेल रेडिय : कुरुक्षेत्र जेल म भक्तिभाव स ...        NaN\n",
            "\n",
            "[6246 rows x 3 columns]\n"
          ]
        }
      ]
    },
    {
      "cell_type": "markdown",
      "source": [],
      "metadata": {
        "id": "kc_ys32NK_Ob"
      }
    },
    {
      "cell_type": "code",
      "source": [
        "x=stemmed_dataset['Title'].values\n",
        "print(x)"
      ],
      "metadata": {
        "colab": {
          "base_uri": "https://localhost:8080/"
        },
        "id": "vAhoH6CLcXeZ",
        "outputId": "932c56c3-36fc-4801-90bd-91926d9fbe8a"
      },
      "execution_count": 15,
      "outputs": [
        {
          "output_type": "stream",
          "name": "stdout",
          "text": [
            "['Jagdalpur म पर्यटक क साथ दुर्व्यवहार, नाव स सैर करान वाल पर लग मनमान पैस वसूलन क आरोप'\n",
            " 'इस्तेमाल क गए ग्रीन ट बैग्स क फेंकन स पहल जान ल उसक फायदे'\n",
            " 'कार स निकलन लग Gold बिस्किट, पटन म पकड़ गय सव 2 करोड़ क सोना' ...\n",
            " 'पलटवार : राम क नाम पर राजनीत कर रह शिवसेना, केंद्रीय मंत्र बोले- हिंदुत्व क पेटेंट कांग्रेस-राकांप क बेचा'\n",
            " 'बंगाल म बवाल: नाबालिग स दुष्कर्म और हत्य मामल म सीबीआई जांच क मांग, भाजप न कल बंद क आह्वान किया'\n",
            " 'तिनक जेल रेडिय : कुरुक्षेत्र जेल म भक्तिभाव स मन नवरात्र उत्सव, नवम पर बंदिय क भजन स गूंज परिसर']\n"
          ]
        }
      ]
    },
    {
      "cell_type": "code",
      "source": [
        "y=stemmed_dataset['Label'].values\n",
        "print(y)"
      ],
      "metadata": {
        "colab": {
          "base_uri": "https://localhost:8080/"
        },
        "id": "_URyFM58w38R",
        "outputId": "fe7f7a95-6e49-4122-a6db-7b6c2950c1bc"
      },
      "execution_count": 16,
      "outputs": [
        {
          "output_type": "stream",
          "name": "stdout",
          "text": [
            "[1 1 1 ... 1 1 1]\n"
          ]
        }
      ]
    },
    {
      "cell_type": "markdown",
      "source": [
        "## convert text to numericals\n",
        "\n"
      ],
      "metadata": {
        "id": "XY9h-2JQLArJ"
      }
    },
    {
      "cell_type": "code",
      "source": [
        "vectorizer = TfidfVectorizer()\n",
        "vectorizer.fit(x)\n",
        "\n",
        "x = vectorizer.transform(x)"
      ],
      "metadata": {
        "id": "VnH65E3L47sI"
      },
      "execution_count": 17,
      "outputs": []
    },
    {
      "cell_type": "code",
      "source": [
        "print(x)"
      ],
      "metadata": {
        "id": "UtZzoTNQ47mm",
        "colab": {
          "base_uri": "https://localhost:8080/"
        },
        "outputId": "99a52e45-dc7e-47fc-c90f-a1a0eb2dc9dd"
      },
      "execution_count": 18,
      "outputs": [
        {
          "output_type": "stream",
          "name": "stdout",
          "text": [
            "  (0, 3203)\t0.2792416821290462\n",
            "  (0, 3131)\t0.23559773412731422\n",
            "  (0, 3112)\t0.18882263437440833\n",
            "  (0, 3017)\t0.43124599961489896\n",
            "  (0, 2987)\t0.4023562802145965\n",
            "  (0, 2938)\t0.36657310900821444\n",
            "  (0, 2726)\t0.26970166192210343\n",
            "  (0, 2120)\t0.15357259221229086\n",
            "  (0, 1703)\t0.23086335964209928\n",
            "  (0, 835)\t0.44609735750866253\n",
            "  (1, 2994)\t0.4865574918800907\n",
            "  (1, 2756)\t0.32996059287110885\n",
            "  (1, 2185)\t0.41004494074628767\n",
            "  (1, 2103)\t0.43824343021053846\n",
            "  (1, 1893)\t0.46265368967983195\n",
            "  (1, 1799)\t0.28309931140646377\n",
            "  (2, 3346)\t0.31317544966674965\n",
            "  (2, 3112)\t0.21906348584147914\n",
            "  (2, 2709)\t0.43451395535542364\n",
            "  (2, 2701)\t0.34225351664716414\n",
            "  (2, 2224)\t0.21053847773663828\n",
            "  (2, 2131)\t0.45174382951995945\n",
            "  (2, 2120)\t0.17816798018519778\n",
            "  (2, 726)\t0.5175419911086937\n",
            "  (3, 2147)\t0.3068765235743474\n",
            "  :\t:\n",
            "  (6243, 3203)\t0.46070839793663226\n",
            "  (6243, 3095)\t0.22456016456556976\n",
            "  (6243, 2743)\t0.6924878546636001\n",
            "  (6243, 2726)\t0.22248437202788007\n",
            "  (6243, 2336)\t0.3795841411123429\n",
            "  (6243, 2120)\t0.2533725709774355\n",
            "  (6244, 3376)\t0.3085656048912094\n",
            "  (6244, 2956)\t0.286727355033748\n",
            "  (6244, 2850)\t0.3912541301780927\n",
            "  (6244, 2353)\t0.34352346795434463\n",
            "  (6244, 2130)\t0.28606974766075766\n",
            "  (6244, 2120)\t0.1907338749595012\n",
            "  (6244, 2071)\t0.22958464908121898\n",
            "  (6244, 1730)\t0.5096014437010018\n",
            "  (6244, 1633)\t0.3476614298955662\n",
            "  (6245, 3346)\t0.265042915817731\n",
            "  (6245, 3331)\t0.21983921717457214\n",
            "  (6245, 2934)\t0.229631528294297\n",
            "  (6245, 2874)\t0.458551839845577\n",
            "  (6245, 2867)\t0.38828454170939775\n",
            "  (6245, 2726)\t0.2648061427647229\n",
            "  (6245, 2682)\t0.31962649433010965\n",
            "  (6245, 2681)\t0.3950528662725207\n",
            "  (6245, 2631)\t0.2685001970232101\n",
            "  (6245, 1845)\t0.2592588385158121\n"
          ]
        }
      ]
    },
    {
      "cell_type": "code",
      "source": [],
      "metadata": {
        "id": "Yp2LvEUDQTPA"
      },
      "execution_count": 18,
      "outputs": []
    },
    {
      "cell_type": "code",
      "source": [],
      "metadata": {
        "id": "AY8om6QyQTSC"
      },
      "execution_count": 18,
      "outputs": []
    },
    {
      "cell_type": "code",
      "source": [],
      "metadata": {
        "id": "8rYwWJoxQTWR"
      },
      "execution_count": 18,
      "outputs": []
    },
    {
      "cell_type": "markdown",
      "source": [
        "Training and testing data\n"
      ],
      "metadata": {
        "id": "wHjUjuebSNbo"
      }
    },
    {
      "cell_type": "code",
      "source": [
        "x_train,x_test,y_train,y_test = train_test_split(x,y,test_size=0.2,random_state=12,shuffle=True)\n",
        "y_train"
      ],
      "metadata": {
        "id": "tnT6TlfvR6E1",
        "colab": {
          "base_uri": "https://localhost:8080/"
        },
        "outputId": "09fad4b3-0c6b-40a2-f2e8-0f04af618db5"
      },
      "execution_count": 19,
      "outputs": [
        {
          "output_type": "execute_result",
          "data": {
            "text/plain": [
              "array([1, 0, 1, ..., 0, 1, 1])"
            ]
          },
          "metadata": {},
          "execution_count": 19
        }
      ]
    },
    {
      "cell_type": "code",
      "source": [
        "from sklearn import svm"
      ],
      "metadata": {
        "id": "c8FravopPGL7"
      },
      "execution_count": 20,
      "outputs": []
    },
    {
      "cell_type": "code",
      "source": [
        "model = svm.SVC()"
      ],
      "metadata": {
        "id": "xMQdbiXYR6Bc"
      },
      "execution_count": 21,
      "outputs": []
    },
    {
      "cell_type": "code",
      "source": [
        "model.fit(x_train, y_train)"
      ],
      "metadata": {
        "id": "VuWgyx7AR5_C",
        "colab": {
          "base_uri": "https://localhost:8080/",
          "height": 74
        },
        "outputId": "68a658cb-71a4-4f1b-cf58-d49cd82c9d2e"
      },
      "execution_count": 22,
      "outputs": [
        {
          "output_type": "execute_result",
          "data": {
            "text/plain": [
              "SVC()"
            ],
            "text/html": [
              "<style>#sk-container-id-1 {color: black;background-color: white;}#sk-container-id-1 pre{padding: 0;}#sk-container-id-1 div.sk-toggleable {background-color: white;}#sk-container-id-1 label.sk-toggleable__label {cursor: pointer;display: block;width: 100%;margin-bottom: 0;padding: 0.3em;box-sizing: border-box;text-align: center;}#sk-container-id-1 label.sk-toggleable__label-arrow:before {content: \"▸\";float: left;margin-right: 0.25em;color: #696969;}#sk-container-id-1 label.sk-toggleable__label-arrow:hover:before {color: black;}#sk-container-id-1 div.sk-estimator:hover label.sk-toggleable__label-arrow:before {color: black;}#sk-container-id-1 div.sk-toggleable__content {max-height: 0;max-width: 0;overflow: hidden;text-align: left;background-color: #f0f8ff;}#sk-container-id-1 div.sk-toggleable__content pre {margin: 0.2em;color: black;border-radius: 0.25em;background-color: #f0f8ff;}#sk-container-id-1 input.sk-toggleable__control:checked~div.sk-toggleable__content {max-height: 200px;max-width: 100%;overflow: auto;}#sk-container-id-1 input.sk-toggleable__control:checked~label.sk-toggleable__label-arrow:before {content: \"▾\";}#sk-container-id-1 div.sk-estimator input.sk-toggleable__control:checked~label.sk-toggleable__label {background-color: #d4ebff;}#sk-container-id-1 div.sk-label input.sk-toggleable__control:checked~label.sk-toggleable__label {background-color: #d4ebff;}#sk-container-id-1 input.sk-hidden--visually {border: 0;clip: rect(1px 1px 1px 1px);clip: rect(1px, 1px, 1px, 1px);height: 1px;margin: -1px;overflow: hidden;padding: 0;position: absolute;width: 1px;}#sk-container-id-1 div.sk-estimator {font-family: monospace;background-color: #f0f8ff;border: 1px dotted black;border-radius: 0.25em;box-sizing: border-box;margin-bottom: 0.5em;}#sk-container-id-1 div.sk-estimator:hover {background-color: #d4ebff;}#sk-container-id-1 div.sk-parallel-item::after {content: \"\";width: 100%;border-bottom: 1px solid gray;flex-grow: 1;}#sk-container-id-1 div.sk-label:hover label.sk-toggleable__label {background-color: #d4ebff;}#sk-container-id-1 div.sk-serial::before {content: \"\";position: absolute;border-left: 1px solid gray;box-sizing: border-box;top: 0;bottom: 0;left: 50%;z-index: 0;}#sk-container-id-1 div.sk-serial {display: flex;flex-direction: column;align-items: center;background-color: white;padding-right: 0.2em;padding-left: 0.2em;position: relative;}#sk-container-id-1 div.sk-item {position: relative;z-index: 1;}#sk-container-id-1 div.sk-parallel {display: flex;align-items: stretch;justify-content: center;background-color: white;position: relative;}#sk-container-id-1 div.sk-item::before, #sk-container-id-1 div.sk-parallel-item::before {content: \"\";position: absolute;border-left: 1px solid gray;box-sizing: border-box;top: 0;bottom: 0;left: 50%;z-index: -1;}#sk-container-id-1 div.sk-parallel-item {display: flex;flex-direction: column;z-index: 1;position: relative;background-color: white;}#sk-container-id-1 div.sk-parallel-item:first-child::after {align-self: flex-end;width: 50%;}#sk-container-id-1 div.sk-parallel-item:last-child::after {align-self: flex-start;width: 50%;}#sk-container-id-1 div.sk-parallel-item:only-child::after {width: 0;}#sk-container-id-1 div.sk-dashed-wrapped {border: 1px dashed gray;margin: 0 0.4em 0.5em 0.4em;box-sizing: border-box;padding-bottom: 0.4em;background-color: white;}#sk-container-id-1 div.sk-label label {font-family: monospace;font-weight: bold;display: inline-block;line-height: 1.2em;}#sk-container-id-1 div.sk-label-container {text-align: center;}#sk-container-id-1 div.sk-container {/* jupyter's `normalize.less` sets `[hidden] { display: none; }` but bootstrap.min.css set `[hidden] { display: none !important; }` so we also need the `!important` here to be able to override the default hidden behavior on the sphinx rendered scikit-learn.org. See: https://github.com/scikit-learn/scikit-learn/issues/21755 */display: inline-block !important;position: relative;}#sk-container-id-1 div.sk-text-repr-fallback {display: none;}</style><div id=\"sk-container-id-1\" class=\"sk-top-container\"><div class=\"sk-text-repr-fallback\"><pre>SVC()</pre><b>In a Jupyter environment, please rerun this cell to show the HTML representation or trust the notebook. <br />On GitHub, the HTML representation is unable to render, please try loading this page with nbviewer.org.</b></div><div class=\"sk-container\" hidden><div class=\"sk-item\"><div class=\"sk-estimator sk-toggleable\"><input class=\"sk-toggleable__control sk-hidden--visually\" id=\"sk-estimator-id-1\" type=\"checkbox\" checked><label for=\"sk-estimator-id-1\" class=\"sk-toggleable__label sk-toggleable__label-arrow\">SVC</label><div class=\"sk-toggleable__content\"><pre>SVC()</pre></div></div></div></div></div>"
            ]
          },
          "metadata": {},
          "execution_count": 22
        }
      ]
    },
    {
      "cell_type": "code",
      "source": [
        "x_train_prediction = model.predict(x_train)\n",
        "training_data_accuracy = accuracy_score(x_train_prediction, y_train)"
      ],
      "metadata": {
        "id": "NbE0av2ER58P"
      },
      "execution_count": 23,
      "outputs": []
    },
    {
      "cell_type": "code",
      "source": [
        "print('Accuracy score of the training data : ', training_data_accuracy)"
      ],
      "metadata": {
        "id": "Wso6ZRTDR55y",
        "colab": {
          "base_uri": "https://localhost:8080/"
        },
        "outputId": "3d5ae4a7-f47d-47e3-aa50-60a31751d128"
      },
      "execution_count": 24,
      "outputs": [
        {
          "output_type": "stream",
          "name": "stdout",
          "text": [
            "Accuracy score of the training data :  0.9877902321857486\n"
          ]
        }
      ]
    },
    {
      "cell_type": "code",
      "source": [
        "x_test_prediction = model.predict(x_test)\n",
        "test_data_accuracy = accuracy_score(x_test_prediction, y_test)"
      ],
      "metadata": {
        "id": "216feaWfR53L"
      },
      "execution_count": 25,
      "outputs": []
    },
    {
      "cell_type": "code",
      "source": [
        "print('Accuracy score of the test data : ', test_data_accuracy)"
      ],
      "metadata": {
        "id": "t7kGfsSPR50M",
        "colab": {
          "base_uri": "https://localhost:8080/"
        },
        "outputId": "519600d6-5e19-4b66-ed49-e5170eb5f817"
      },
      "execution_count": 26,
      "outputs": [
        {
          "output_type": "stream",
          "name": "stdout",
          "text": [
            "Accuracy score of the test data :  0.8992\n"
          ]
        }
      ]
    },
    {
      "cell_type": "code",
      "source": [
        "print(classification_report(y_test,x_test_prediction))"
      ],
      "metadata": {
        "id": "tJyWOGq6R5xP",
        "colab": {
          "base_uri": "https://localhost:8080/"
        },
        "outputId": "d57cd42c-a7ab-43a0-eae7-61c501c26d7a"
      },
      "execution_count": 27,
      "outputs": [
        {
          "output_type": "stream",
          "name": "stdout",
          "text": [
            "              precision    recall  f1-score   support\n",
            "\n",
            "           0       0.93      0.87      0.90       663\n",
            "           1       0.87      0.93      0.90       587\n",
            "\n",
            "    accuracy                           0.90      1250\n",
            "   macro avg       0.90      0.90      0.90      1250\n",
            "weighted avg       0.90      0.90      0.90      1250\n",
            "\n"
          ]
        }
      ]
    },
    {
      "cell_type": "code",
      "source": [
        "def fake_news_det(news):\n",
        "    input_data = [news]\n",
        "    vectorized_input_data = vectorizer.transform(input_data)\n",
        "    prediction = model.predict(vectorized_input_data)\n",
        "    print(prediction)\n",
        "    if (prediction[0]==0):\n",
        "      print('The news is Fake')\n",
        "    else:\n",
        "      print('The news is real')"
      ],
      "metadata": {
        "id": "Sgv5s47RR5uf"
      },
      "execution_count": 28,
      "outputs": []
    },
    {
      "cell_type": "code",
      "source": [
        "news=str(input())\n",
        "fake_news_det(news)\n"
      ],
      "metadata": {
        "id": "voqpp-wnR5r1",
        "colab": {
          "base_uri": "https://localhost:8080/"
        },
        "outputId": "d55f7fc8-74f3-473e-9191-e53a5664fb62"
      },
      "execution_count": 29,
      "outputs": [
        {
          "output_type": "stream",
          "name": "stdout",
          "text": [
            "नहीं दिया वोट तो बैंक अकाउंट से 350 रुपये कटेंगे \n",
            "[0]\n",
            "The news is Fake\n"
          ]
        }
      ]
    },
    {
      "cell_type": "code",
      "source": [
        "news=str(input())\n",
        "fake_news_det(news)"
      ],
      "metadata": {
        "id": "Czdzi-UcN929",
        "colab": {
          "base_uri": "https://localhost:8080/"
        },
        "outputId": "fbd45401-b3ba-4a2a-c664-82042394dc39"
      },
      "execution_count": 31,
      "outputs": [
        {
          "output_type": "stream",
          "name": "stdout",
          "text": [
            "BARC में ट्रेनी सहित विभिन्न पदों पर 2022 के लिए नौकरियां\n",
            "[1]\n",
            "The news is real\n"
          ]
        }
      ]
    }
  ]
}